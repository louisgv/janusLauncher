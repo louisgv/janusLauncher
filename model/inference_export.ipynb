{
 "cells": [
  {
   "cell_type": "code",
   "execution_count": 45,
   "metadata": {},
   "outputs": [
    {
     "name": "stdout",
     "output_type": "stream",
     "text": [
      "INFO:tensorflow:Froze 8 variables.\n",
      "Converted 8 variables to const ops.\n"
     ]
    },
    {
     "data": {
      "text/plain": [
       "'./inference_graph.pb'"
      ]
     },
     "execution_count": 45,
     "metadata": {},
     "output_type": "execute_result"
    }
   ],
   "source": [
    "import os\n",
    "import sys\n",
    "\n",
    "import tensorflow as tf\n",
    "\n",
    "from tensorflow.python.framework import graph_util\n",
    "from tensorflow.python.tools import optimize_for_inference_lib\n",
    "\n",
    "from keras.models import load_model, Model\n",
    "from keras import backend\n",
    "\n",
    "from tensorflow.core.framework import attr_value_pb2\n",
    "from tensorflow.core.framework import graph_pb2\n",
    "from tensorflow.python.framework import dtypes\n",
    "from tensorflow.python.framework import tensor_util\n",
    "\n",
    "# Inspect and extract graph\n",
    "version = 3\n",
    "\n",
    "model_path = os.path.dirname(os.path.realpath(sys.argv[1])) + '/bin/v' + str(version) + '/model.h5'\n",
    "\n",
    "session = tf.Session()\n",
    "backend.set_session(session)\n",
    "backend.get_session().run(tf.global_variables_initializer())\n",
    "\n",
    "model = load_model(model_path)\n",
    "gd = session.graph.as_graph_def()\n",
    "\n",
    "input_node_map = {}\n",
    "for node in gd.node:\n",
    "    if node.name not in input_node_map.keys():\n",
    "        input_node_map[node.name] = node\n",
    "    else:\n",
    "        raise ValueError(\"Duplicate node names detected for \", node.name)\n",
    "\n",
    "nodes_with_switch_op = [x for x in gd.node if x.op.lower().find('switch') != -1]\n",
    "for n in [x for x in gd.node]:\n",
    "    ints = [i for i in n.input]\n",
    "    endswith1 = [ii for ii in ints if ii.endswith(':1')] #and 'Switch' in ii]\n",
    "    if len(endswith1) > 0:\n",
    "        for index, inn in enumerate(n.input):\n",
    "            if inn in endswith1:\n",
    "                new_input = inn[:-2]\n",
    "                n.input.remove(inn)\n",
    "                n.input.insert(index, new_input)\n",
    "\n",
    "for n in nodes_with_switch_op:\n",
    "    n.op = 'Identity'\n",
    "    n.input.pop()\n",
    "\n",
    "# input_node_map['dropout_1/cond/Switch_1']\n",
    "# input_node_map['dropout_1/cond/pred_id']\n",
    "\n",
    "# nodes_with_dropout = [x for x in gd.node if x.name.lower().find('dropout') != -1]\n",
    "# nodes_with_dropout = [(n.name, [i for i in n.input]) for n in gd.node if n.name.lower().find('dropout') != -1]\n",
    "# print(nodes_with_dropout)\n",
    "\n",
    "# for n in gd.node:\n",
    "#     if 'dropout_1/cond/Switch_1' in [i for i in n.input]:\n",
    "#         print(n)\n",
    "\n",
    "nodes_with_learningphase = [x for x in gd.node if x.name.lower().find('keras_learning_phase') != -1]\n",
    "# print(nodes_with_learningphase)\n",
    "\n",
    "for n in nodes_with_learningphase:\n",
    "    n.op = 'Const'\n",
    "    n.attr.get_or_create('value').CopyFrom(attr_value_pb2.AttrValue(tensor=tensor_util.make_tensor_proto(\n",
    "            [False], dtypes.bool, [1])))\n",
    "    del n.attr['shape']\n",
    "\n",
    "output_graph_def = graph_util.convert_variables_to_constants(session, gd, ['main_output/Softmax'])\n",
    "\n",
    "# optimized_graph_def = optimize_for_inference_lib.optimize_for_inference(\n",
    "#         output_graph_def,\n",
    "#         [\"main_input\"], # an array of the input node(s)\n",
    "#         [\"main_output/Softmax\"], # an array of output nodes\n",
    "#         tf.float32.as_datatype_enum)\n",
    "\n",
    "# WRITE TO GRAPH\n",
    "tf.train.write_graph(output_graph_def, \".\", \"inference_graph.pb\", as_text=False)\n"
   ]
  },
  {
   "cell_type": "code",
   "execution_count": 23,
   "metadata": {
    "collapsed": true
   },
   "outputs": [],
   "source": [
    "def display_nodes(nodes):\n",
    "    for i, node in enumerate(nodes):\n",
    "        print('%d %s %s' % (i, node.name, node.op))\n",
    "        [print(u'└─── %d ─ %s' % (i, n)) for i, n in enumerate(node.input)]"
   ]
  },
  {
   "cell_type": "code",
   "execution_count": null,
   "metadata": {
    "collapsed": true
   },
   "outputs": [],
   "source": []
  }
 ],
 "metadata": {
  "kernelspec": {
   "display_name": "Python 3",
   "language": "python",
   "name": "python3"
  },
  "language_info": {
   "codemirror_mode": {
    "name": "ipython",
    "version": 3
   },
   "file_extension": ".py",
   "mimetype": "text/x-python",
   "name": "python",
   "nbconvert_exporter": "python",
   "pygments_lexer": "ipython3",
   "version": "3.5.2"
  }
 },
 "nbformat": 4,
 "nbformat_minor": 2
}
