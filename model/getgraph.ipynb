{
 "cells": [
  {
   "cell_type": "code",
   "execution_count": 1,
   "metadata": {
    "scrolled": true
   },
   "outputs": [
    {
     "name": "stderr",
     "output_type": "stream",
     "text": [
      "Using TensorFlow backend.\n"
     ]
    }
   ],
   "source": [
    "import tensorflow as tf\n",
    "\n",
    "from tensorflow.python.framework import graph_util\n",
    "\n",
    "from keras.models import load_model, Model\n",
    "from keras import backend"
   ]
  },
  {
   "cell_type": "code",
   "execution_count": 4,
   "metadata": {
    "scrolled": true
   },
   "outputs": [],
   "source": [
    "def extractgraph(model_path):\n",
    "    session = tf.Session()\n",
    "    backend.set_session(session)\n",
    "    \n",
    "    model = load_model(model_path)\n",
    "    gd = session.graph.as_graph_def()\n",
    "    \n",
    "#     print([(n.name, [i for i in n.input]) for n in graph_def.node[:10]])\n",
    "    \n",
    "    for node in gd.node:\n",
    "        if node.op == \"Switch\":\n",
    "            node.op = \"Identity\"\n",
    "            del node.input[1]\n",
    "        \n",
    "#     Print dropout nodes\n",
    "#     print([(n.name, [i for i in n.input]) for n in graph_def.node if n.name.lower().find('dropout') != -1])\n",
    "    \n",
    "#     output_graph_def = graph_util.convert_variables_to_constants(session, graph_def, ['MatMul'])\n",
    "    output_graph_def = gd\n",
    "    \n",
    "    tf.train.write_graph(gd, \".\", \"graph.pb\", as_text=False)\n",
    "\n",
    "#     with tf.gfile.GFile('graph.pb', \"wb\") as f:\n",
    "#         f.write(output_graph_def.SerializeToString())\n",
    "        \n",
    "    return (model, output_graph_def)\n",
    "    "
   ]
  },
  {
   "cell_type": "code",
   "execution_count": 72,
   "metadata": {
    "scrolled": true
   },
   "outputs": [
    {
     "name": "stdout",
     "output_type": "stream",
     "text": [
      "[('a', []), ('b', []), ('MatMul', ['a', 'b']), ('a_1', []), ('b_1', []), ('MatMul_1', ['a_1', 'b_1']), ('a_2', []), ('b_2', []), ('MatMul_2', ['a_2', 'b_2']), ('a_3', [])]\n"
     ]
    }
   ],
   "source": [
    "# import os\n",
    "# import sys\n",
    "\n",
    "# version = 0\n",
    "# model_path = os.path.dirname(os.path.realpath(sys.argv[1])) + '/bin/v' + str(version) + '/model.h5'\n",
    "\n",
    "# (model, output_graph_def) = extractgraph(model_path)\n",
    "\n",
    "# backend.clear_session\n",
    "\n",
    "# session = tf.Session()\n",
    "\n",
    "# backend.set_session(session)\n",
    "\n",
    "\n"
   ]
  },
  {
   "cell_type": "code",
   "execution_count": 14,
   "metadata": {
    "collapsed": true,
    "scrolled": true
   },
   "outputs": [],
   "source": [
    "def inspectGraph(graph_path, shouldPrint = False):\n",
    "    g = tf.GraphDef()\n",
    "    \n",
    "    g.ParseFromString(open(graph_path, \"rb\").read())\n",
    "    if shouldPrint: print(\" ---| INPUTS: \\n\"), print([n for n in g.node if n.name.find(\"input\") != -1])\n",
    "    \n",
    "    ops = set([n.op for n in g.node])\n",
    "    if shouldPrint: print(\" ---| OPS: \\n\"), print(\" \".join(ops))\n",
    "\n",
    "    "
   ]
  },
  {
   "cell_type": "code",
   "execution_count": null,
   "metadata": {
    "collapsed": true
   },
   "outputs": [],
   "source": [
    "\n",
    "\n"
   ]
  }
 ],
 "metadata": {
  "kernelspec": {
   "display_name": "Python 3",
   "language": "python",
   "name": "python3"
  },
  "language_info": {
   "codemirror_mode": {
    "name": "ipython",
    "version": 3
   },
   "file_extension": ".py",
   "mimetype": "text/x-python",
   "name": "python",
   "nbconvert_exporter": "python",
   "pygments_lexer": "ipython3",
   "version": "3.5.2"
  }
 },
 "nbformat": 4,
 "nbformat_minor": 2
}
