{
 "cells": [
  {
   "cell_type": "code",
   "execution_count": 9,
   "metadata": {
    "collapsed": true
   },
   "outputs": [],
   "source": [
    "# handling data, Refactored code from https://github.com/Coopss/EMNIST/blob/master/training.py"
   ]
  },
  {
   "cell_type": "code",
   "execution_count": 5,
   "metadata": {
    "collapsed": true
   },
   "outputs": [],
   "source": [
    "import numpy as np\n",
    "\n",
    "from scipy.io import loadmat\n",
    "\n",
    "import pickle"
   ]
  },
  {
   "cell_type": "code",
   "execution_count": 2,
   "metadata": {},
   "outputs": [],
   "source": [
    "def load_data(mat_file_path, width=28, height=28, max_data=None, verbose=False):\n",
    "    ''' Load data in from .mat file as specified by the paper.\n",
    "        Arguments:\n",
    "            mat_file_path: path to the .mat, should be in sample/\n",
    "        Optional Arguments:\n",
    "            width: specified width\n",
    "            height: specified height\n",
    "            max_: the max number of samples to load\n",
    "            verbose: enable verbose printing\n",
    "        Returns:\n",
    "            A tuple of training and test data, and the mapping for class code to ascii value,\n",
    "            in the following format:\n",
    "                - ((training_images, training_labels), (testing_images, testing_labels), mapping)\n",
    "    '''\n",
    "    # Load convoluted list structure form loadmat\n",
    "    mat = loadmat(mat_file_path)\n",
    "    \n",
    "    # Load char mapping\n",
    "    mapping = {kv[0]:kv[1:][0] for kv in mat['dataset'][0][0][2]}\n",
    "    pickle.dump(mapping, open('bin/mapping.p', 'wb'))\n",
    "    \n",
    "    training_image_row = mat['dataset'][0][0][0][0][0][0];\n",
    "    training_label_row = mat['dataset'][0][0][0][0][0][1];\n",
    "    \n",
    "    testing_image_row = mat['dataset'][0][0][1][0][0][0];\n",
    "    testing_label_row = mat['dataset'][0][0][1][0][0][1];\n",
    "    \n",
    "    # Load training data\n",
    "    max_training_data = len(training_image_row) if max_data == None else max_data\n",
    "    \n",
    "    training_images = training_image_row[:max_training_data]\n",
    "    training_labels = training_label_row[:max_training_data]\n",
    "    \n",
    "    # Load testing data, use 1/6 of max_data if provided\n",
    "    max_testing_data = len(testing_image_row) if max_data == None else int(max_data/6)\n",
    "        \n",
    "    testing_images = testing_image_row[:max_testing_data]\n",
    "    testing_labels = testing_label_row[:max_testing_data]\n",
    "    \n",
    "    # Reshape training data\n",
    "    training_size = len(training_images)\n",
    "    for i in range(training_size):\n",
    "        if verbose: print('%d/%d (%.2lf%%)' % (i + 1, training_size, ((i + 1)/training_size) * 100), end='\\r')\n",
    "        training_images[i] = reshape(training_images[i], width, height)\n",
    "    if verbose: print('')\n",
    "        \n",
    "    # Reshape testing data\n",
    "    testing_size = len(testing_images)\n",
    "    for i in range(testing_size):\n",
    "        if verbose: print('%d/%d (%.2lf%%)' % (i + 1, testing_size, ((i + 1)/testing_size) * 100), end='\\r')\n",
    "        testing_images[i] = reshape(testing_images[i], width, height)\n",
    "    if verbose: print('')\n",
    "    \n",
    "    # Extend the arrays to (None, 28, 28, 1)\n",
    "    training_images = training_images.reshape(training_images.shape[0], height, width, 1)\n",
    "    testing_images = testing_images.reshape(testing_images.shape[0], height, width, 1)\n",
    "    \n",
    "    # Convert type to float32\n",
    "    training_images = training_images.astype('float32')\n",
    "    testing_images = testing_images.astype('float32')\n",
    "\n",
    "    # Normalize to prevent issues with model\n",
    "    training_images /= 255\n",
    "    testing_images /= 255\n",
    "    \n",
    "    # HACK: Check for db name and adjust it for now,...\n",
    "    nb_classes = len(mapping) \n",
    "    \n",
    "    if(mat_file_path.lower().find('emnist-letters.mat') != -1):\n",
    "        nb_classes += 1\n",
    "\n",
    "    return ((training_images, training_labels), (testing_images, testing_labels), mapping, nb_classes)\n",
    "        "
   ]
  },
  {
   "cell_type": "code",
   "execution_count": 3,
   "metadata": {
    "collapsed": true
   },
   "outputs": [],
   "source": [
    "def reshape(img, width=28, height=28,):\n",
    "    # Used to rotate images (for some reason they are transposed on read-in)\n",
    "    img.shape = (width, height)\n",
    "    img = img.T\n",
    "    img = list(img)\n",
    "    img = [item for sublist in img for item in sublist]\n",
    "    return img\n",
    "\n",
    "def display(img, threshold=0.5):\n",
    "    # Debugging\n",
    "    render=''\n",
    "    for row in img:\n",
    "        for col in row:\n",
    "            if col > threshold: \n",
    "                render += '@'\n",
    "            else: \n",
    "                render += '.'\n",
    "        render += '\\n'\n",
    "    return render"
   ]
  },
  {
   "cell_type": "code",
   "execution_count": null,
   "metadata": {
    "collapsed": true
   },
   "outputs": [],
   "source": []
  }
 ],
 "metadata": {
  "kernelspec": {
   "display_name": "Python 3",
   "language": "python",
   "name": "python3"
  },
  "language_info": {
   "codemirror_mode": {
    "name": "ipython",
    "version": 3
   },
   "file_extension": ".py",
   "mimetype": "text/x-python",
   "name": "python",
   "nbconvert_exporter": "python",
   "pygments_lexer": "ipython3",
   "version": "3.5.2"
  }
 },
 "nbformat": 4,
 "nbformat_minor": 2
}
