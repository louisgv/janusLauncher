{
 "cells": [
  {
   "cell_type": "code",
   "execution_count": 2,
   "metadata": {
    "collapsed": true
   },
   "outputs": [],
   "source": [
    "# Mute tensorflow debugging information console\n",
    "import os\n",
    "os.environ['TF_CPP_MIN_LOG_LEVEL'] = '3'"
   ]
  },
  {
   "cell_type": "code",
   "execution_count": 2,
   "metadata": {},
   "outputs": [
    {
     "name": "stderr",
     "output_type": "stream",
     "text": [
      "Using TensorFlow backend.\n"
     ]
    }
   ],
   "source": [
    "from keras.layers import Conv2D, MaxPooling2D, Convolution2D, Dropout, Dense, Flatten, LSTM\n",
    "from keras.models import Sequential, save_model\n",
    "from keras.utils import np_utils\n",
    "from scipy.io import loadmat\n",
    "\n",
    "import keras\n",
    "import keras.layers as kl\n",
    "import keras.models as km\n",
    "\n",
    "import numpy as np\n",
    "\n",
    "import pickle"
   ]
  },
  {
   "cell_type": "code",
   "execution_count": 3,
   "metadata": {
    "collapsed": true
   },
   "outputs": [],
   "source": [
    "def build_net(data, width=28, height=28, verbose=False):\n",
    "    ''' Build the neural network.\n",
    "        Arguments:\n",
    "            data: the packed tuple from load_data()\n",
    "        Optional Arguments:\n",
    "            width: specified width\n",
    "            height: specified height\n",
    "            epochs: the number of epochs to train over\n",
    "            verbose: enable verbose printing\n",
    "    '''\n",
    "    # Initialize data\n",
    "    (x_train, y_train), (x_test, y_test), mapping, nb_classes = data\n",
    "    input_shape = (height, width, 1)\n",
    "\n",
    "    # Hyperparameters\n",
    "    nb_filters = 32 # number of convolutional filters to use\n",
    "    pool_size = (2, 2) # size of pooling area for max pooling\n",
    "    kernel_size = (3, 3) # convolution kernel size\n",
    "    \n",
    "    inputs = kl.Input(shape=input_shape,\n",
    "                        name='main_input')\n",
    "\n",
    "    hidden = kl.Conv2D(nb_filters,\n",
    "                        kernel_size,\n",
    "                        padding='valid')(inputs)\n",
    "    hidden = kl.Activation('relu')(hidden)\n",
    "\n",
    "    hidden = kl.Conv2D(nb_filters,\n",
    "                        kernel_size)(hidden)\n",
    "    hidden = kl.Activation('relu')(hidden)\n",
    "    \n",
    "    hidden = kl.MaxPooling2D(pool_size=pool_size)(hidden)\n",
    "    # Added this just for testing...\n",
    "    hidden = kl.BatchNormalization()(hidden)\n",
    "    hidden = kl.Dropout(rate=0.25)(hidden)\n",
    "    hidden = kl.Flatten()(hidden)\n",
    "\n",
    "    hidden = kl.Dense(512, activation='relu')(hidden)\n",
    "    hidden = kl.Dropout(rate=0.45)(hidden)\n",
    "    \n",
    "    output = kl.Dense(nb_classes, activation='softmax', name='main_output')(hidden)\n",
    "    \n",
    "    model = km.Model(inputs=inputs, outputs=output)\n",
    "\n",
    "    model.compile(loss='categorical_crossentropy',\n",
    "              optimizer='adadelta',\n",
    "              metrics=['accuracy'])\n",
    "\n",
    "    if verbose: print(model.summary())\n",
    "    \n",
    "    return model;"
   ]
  },
  {
   "cell_type": "code",
   "execution_count": null,
   "metadata": {
    "collapsed": true
   },
   "outputs": [],
   "source": []
  }
 ],
 "metadata": {
  "kernelspec": {
   "display_name": "Python 3",
   "language": "python",
   "name": "python3"
  },
  "language_info": {
   "codemirror_mode": {
    "name": "ipython",
    "version": 3
   },
   "file_extension": ".py",
   "mimetype": "text/x-python",
   "name": "python",
   "nbconvert_exporter": "python",
   "pygments_lexer": "ipython3",
   "version": "3.5.2"
  }
 },
 "nbformat": 4,
 "nbformat_minor": 2
}
