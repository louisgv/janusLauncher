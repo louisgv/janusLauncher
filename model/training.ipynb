{
 "cells": [
  {
   "cell_type": "code",
   "execution_count": 3,
   "metadata": {
    "collapsed": true
   },
   "outputs": [],
   "source": [
    "# Mute tensorflow debugging information console\n",
    "import os\n",
    "os.environ['TF_CPP_MIN_LOG_LEVEL'] = '3'"
   ]
  },
  {
   "cell_type": "code",
   "execution_count": 1,
   "metadata": {
    "collapsed": true
   },
   "outputs": [],
   "source": [
    "from keras.layers import Conv2D, MaxPooling2D, Convolution2D, Dropout, Dense, Flatten, LSTM\n",
    "from keras.models import Sequential, save_model\n",
    "from keras.utils import np_utils\n",
    "from scipy.io import loadmat\n",
    "\n",
    "import keras\n",
    "\n",
    "import numpy as np\n",
    "\n",
    "import pickle\n",
    "\n",
    "import tensorflow as tf\n"
   ]
  },
  {
   "cell_type": "code",
   "execution_count": 2,
   "metadata": {
    "collapsed": true
   },
   "outputs": [],
   "source": [
    "def train(model, training_data, callback=False, batch_size=256, epochs=10):\n",
    "    class TFCheckpointCallback(keras.callbacks.Callback):\n",
    "        def __init__(self, saver, sess):\n",
    "            self.saver = saver\n",
    "            self.sess = sess\n",
    "\n",
    "        def on_epoch_end(self, epoch, logs=None):\n",
    "            self.saver.save(self.sess, 'freeze/checkpoint', global_step=epoch)\n",
    "\n",
    "    (x_train, y_train), (x_test, y_test), mapping, nb_classes = training_data\n",
    "    \n",
    "    # convert class vectors to binary class matrices\n",
    "    y_train = np_utils.to_categorical(y_train, nb_classes)\n",
    "    y_test = np_utils.to_categorical(y_test, nb_classes)\n",
    "    \n",
    "    # Callback for analysis in TensorBoard\n",
    "    tbCallBack = keras.callbacks.TensorBoard(\n",
    "        log_dir='./Graph', \n",
    "        histogram_freq=0, \n",
    "        write_graph=True, \n",
    "        write_images=True\n",
    "    ) if callback else None\n",
    "    \n",
    "    sess = tf.Session()\n",
    "    keras.backend.set_session(sess)\n",
    "    \n",
    "    tf_graph = sess.graph\n",
    "    # Ref: https://www.tensorflow.org/api_docs/python/tf/train/Saver\n",
    "    tf_saver = tf.train.Saver()\n",
    "    tfckptcb = TFCheckpointCallback(tf_saver, sess)\n",
    "\n",
    "    # Write the protobuf graph\n",
    "    # ref: https://www.tensorflow.org/api_docs/python/tf/train/write_graph\n",
    "    tf.train.write_graph(tf_graph.as_graph_def(),\n",
    "                         'freeze', 'graph.pbtxt', as_text=True)\n",
    "    tf.train.write_graph(tf_graph.as_graph_def(),\n",
    "                         'freeze', 'graph.pb', as_text=False)\n",
    "\n",
    "    model.fit(x_train, y_train,\n",
    "          batch_size=batch_size,\n",
    "          epochs=epochs,\n",
    "          verbose=1,\n",
    "          validation_data=(x_test, y_test),\n",
    "          callbacks=[tbCallBack, tfckptcb] if callback else [tfckptcb])\n",
    "    \n",
    "    score = model.evaluate(x_test, y_test, verbose=0)\n",
    "    \n",
    "    print('Test loss:', score[0])\n",
    "    print('Test accuracy:', score[1])\n",
    "\n",
    "    # Offload model to file\n",
    "    model_yaml = model.to_yaml()\n",
    "    with open(\"bin/model.yaml\", \"w\") as yaml_file:\n",
    "        yaml_file.write(model_yaml)\n",
    "    save_model(model, 'bin/model.h5')"
   ]
  },
  {
   "cell_type": "code",
   "execution_count": null,
   "metadata": {
    "collapsed": true
   },
   "outputs": [],
   "source": []
  }
 ],
 "metadata": {
  "kernelspec": {
   "display_name": "Python 3",
   "language": "python",
   "name": "python3"
  },
  "language_info": {
   "codemirror_mode": {
    "name": "ipython",
    "version": 3
   },
   "file_extension": ".py",
   "mimetype": "text/x-python",
   "name": "python",
   "nbconvert_exporter": "python",
   "pygments_lexer": "ipython3",
   "version": "3.5.2"
  }
 },
 "nbformat": 4,
 "nbformat_minor": 2
}
