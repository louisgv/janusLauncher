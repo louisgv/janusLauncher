{
 "cells": [
  {
   "cell_type": "code",
   "execution_count": 1,
   "metadata": {
    "collapsed": true
   },
   "outputs": [],
   "source": [
    "import sys\n",
    "import os\n",
    "import argparse\n",
    "\n",
    "os.environ['TF_CPP_MIN_LOG_LEVEL'] = '3'"
   ]
  },
  {
   "cell_type": "code",
   "execution_count": 2,
   "metadata": {},
   "outputs": [
    {
     "name": "stderr",
     "output_type": "stream",
     "text": [
      "Using TensorFlow backend.\n"
     ]
    }
   ],
   "source": [
    "%run dataset.ipynb \n",
    "%run neuralnet.ipynb\n",
    "%run training.ipynb"
   ]
  },
  {
   "cell_type": "code",
   "execution_count": 27,
   "metadata": {},
   "outputs": [
    {
     "name": "stdout",
     "output_type": "stream",
     "text": [
      "[]\n"
     ]
    }
   ],
   "source": [
    "%run getgraph.ipynb\n",
    "# Test section\n",
    "graph_path = './graph.pb'\n",
    "# inspectGraph(graph_path)\n",
    "import tensorflow as tfq\n",
    "g = tf.GraphDef()\n",
    "g.ParseFromString(open(graph_path, \"rb\").read())\n",
    "\n",
    "# print([n for n in g.node if n.name.find(\"input\") != -1])\n",
    "print([n for n in g.node if n.name.find(\"output\") != -1])"
   ]
  },
  {
   "cell_type": "code",
   "execution_count": 3,
   "metadata": {
    "collapsed": true
   },
   "outputs": [],
   "source": [
    "# Configuration parameters\n",
    "parser = argparse.ArgumentParser(usage='A training program for classifying the EMNIST dataset')\n",
    "parser.add_argument('-f', '--file', type=str, help='Path .mat file data', required=True)\n",
    "parser.add_argument('--width', type=int, default=28, help='Width of the images')\n",
    "parser.add_argument('--height', type=int, default=28, help='Height of the images')\n",
    "parser.add_argument('--max', type=int, default=None, help='Max amount of data to use')\n",
    "parser.add_argument('--epochs', type=int, default=5, help='Number of epochs to train on')\n",
    "parser.add_argument('--verbose', action='store_true', default=False, help='Enables verbose printing')\n",
    "\n",
    "#     args = parser.parse_args()\n",
    "\n",
    "data_file = 'emnist-byclass.mat'\n",
    "data_path = os.path.dirname(os.path.realpath(sys.argv[1])) + '/data/' + data_file\n",
    "#     args = parser.parse_args(['-f', data_path, '--max', '500'])\n",
    "args = parser.parse_args(['-f', data_path])\n",
    "\n",
    "bin_dir = os.path.dirname(os.path.realpath(sys.argv[1])) + '/bin'\n",
    "if not os.path.exists(bin_dir):\n",
    "    os.makedirs(bin_dir)"
   ]
  },
  {
   "cell_type": "code",
   "execution_count": 4,
   "metadata": {
    "collapsed": true
   },
   "outputs": [],
   "source": [
    "# Construct training data\n",
    "training_data = load_data(args.file, width=args.width, height=args.height, max_data=args.max, verbose=args.verbose)"
   ]
  },
  {
   "cell_type": "code",
   "execution_count": 5,
   "metadata": {
    "collapsed": true
   },
   "outputs": [],
   "source": [
    "# Construct model\n",
    "model = build_net(training_data, width=args.width, height=args.height, verbose=args.verbose)"
   ]
  },
  {
   "cell_type": "code",
   "execution_count": 6,
   "metadata": {},
   "outputs": [
    {
     "name": "stdout",
     "output_type": "stream",
     "text": [
      "Train on 697932 samples, validate on 116323 samples\n",
      "Epoch 1/1\n",
      "697932/697932 [==============================] - 2201s - loss: 0.6171 - acc: 0.8032 - val_loss: 0.4130 - val_acc: 0.8514\n",
      "Test loss: 0.413009618327\n",
      "Test accuracy: 0.8514481229\n"
     ]
    }
   ],
   "source": [
    "# Train\n",
    "train(model, training_data, epochs=1)"
   ]
  },
  {
   "cell_type": "code",
   "execution_count": 25,
   "metadata": {
    "collapsed": true
   },
   "outputs": [],
   "source": [
    "version = 0\n",
    "\n",
    "model_path = os.path.dirname(os.path.realpath(sys.argv[1])) + '/bin/v' + str(version) + '/model.h5'\n",
    "\n",
    "(model, output_graph_def) = extractgraph(model_path)\n"
   ]
  },
  {
   "cell_type": "code",
   "execution_count": 17,
   "metadata": {},
   "outputs": [
    {
     "name": "stdout",
     "output_type": "stream",
     "text": [
      "Test loss: 0.356566239601\n",
      "Test accuracy: 0.869819382238\n"
     ]
    }
   ],
   "source": [
    "(x_train, y_train), (x_test, y_test), mapping, nb_classes = training_data\n",
    "    \n",
    "y_test = np_utils.to_categorical(y_test, nb_classes)\n",
    "\n",
    "score = model.evaluate(x_test, y_test, verbose=0)\n",
    "\n",
    "print('Test loss:', score[0])\n",
    "print('Test accuracy:', score[1])"
   ]
  },
  {
   "cell_type": "code",
   "execution_count": 41,
   "metadata": {
    "collapsed": true
   },
   "outputs": [],
   "source": [
    "# Generating labels file\n",
    "labels = ''\n",
    "for i in range(68):\n",
    "    labels += ((chr(i+55) if i > 9 else str(i)) + ('\\n' if i < 67 else '')) if i < 36 or i > 41 else ''\n",
    "    \n",
    "# print(labels)\n",
    "with open(\"labels.txt\", \"w\") as label_file:\n",
    "    label_file.write(labels)\n"
   ]
  },
  {
   "cell_type": "code",
   "execution_count": null,
   "metadata": {
    "collapsed": true
   },
   "outputs": [],
   "source": []
  }
 ],
 "metadata": {
  "kernelspec": {
   "display_name": "Python 3",
   "language": "python",
   "name": "python3"
  },
  "language_info": {
   "codemirror_mode": {
    "name": "ipython",
    "version": 3
   },
   "file_extension": ".py",
   "mimetype": "text/x-python",
   "name": "python",
   "nbconvert_exporter": "python",
   "pygments_lexer": "ipython3",
   "version": "3.5.2"
  }
 },
 "nbformat": 4,
 "nbformat_minor": 2
}
