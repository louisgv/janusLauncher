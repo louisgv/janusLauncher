{
 "cells": [
  {
   "cell_type": "code",
   "execution_count": 1,
   "metadata": {
    "collapsed": true
   },
   "outputs": [],
   "source": [
    "import sys\n",
    "import os\n",
    "import argparse\n",
    "\n",
    "os.environ['TF_CPP_MIN_LOG_LEVEL'] = '3'"
   ]
  },
  {
   "cell_type": "code",
   "execution_count": 3,
   "metadata": {},
   "outputs": [],
   "source": [
    "%run dataset.ipynb \n",
    "%run neuralnet.ipynb\n",
    "%run training.ipynb\n",
    "%run getgraph.ipynb"
   ]
  },
  {
   "cell_type": "code",
   "execution_count": null,
   "metadata": {},
   "outputs": [],
   "source": [
    "\n",
    "# Test section\n",
    "graph_path = './graph.pb'\n",
    "# inspectGraph(graph_path)\n",
    "import tensorflow as tf\n",
    "g = tf.GraphDef()\n",
    "g.ParseFromString(open(graph_path, \"rb\").read())\n",
    "\n",
    "# print([n for n in g.node if n.name.find(\"input\") != -1])\n",
    "print([n for n in g.node if n.name.find(\"output\") != -1])"
   ]
  },
  {
   "cell_type": "code",
   "execution_count": 4,
   "metadata": {
    "collapsed": true
   },
   "outputs": [],
   "source": [
    "# Configuration parameters\n",
    "parser = argparse.ArgumentParser(usage='A training program for classifying the EMNIST dataset')\n",
    "parser.add_argument('-f', '--file', type=str, help='Path .mat file data', required=True)\n",
    "parser.add_argument('--width', type=int, default=28, help='Width of the images')\n",
    "parser.add_argument('--height', type=int, default=28, help='Height of the images')\n",
    "parser.add_argument('--max', type=int, default=None, help='Max amount of data to use')\n",
    "parser.add_argument('--epochs', type=int, default=9, help='Number of epochs to train on')\n",
    "parser.add_argument('--verbose', action='store_true', default=False, help='Enables verbose printing')\n",
    "\n",
    "#     args = parser.parse_args()\n",
    "\n",
    "data_file = 'emnist-byclass.mat'\n",
    "data_path = os.path.dirname(os.path.realpath(sys.argv[1])) + '/data/' + data_file\n",
    "#     args = parser.parse_args(['-f', data_path, '--max', '500'])\n",
    "args = parser.parse_args(['-f', data_path])\n",
    "\n",
    "bin_dir = os.path.dirname(os.path.realpath(sys.argv[1])) + '/bin'\n",
    "if not os.path.exists(bin_dir):\n",
    "    os.makedirs(bin_dir)"
   ]
  },
  {
   "cell_type": "code",
   "execution_count": 5,
   "metadata": {
    "collapsed": true
   },
   "outputs": [],
   "source": [
    "# Construct training data\n",
    "training_data = load_data(args.file, width=args.width, height=args.height, max_data=args.max, verbose=args.verbose)"
   ]
  },
  {
   "cell_type": "code",
   "execution_count": 6,
   "metadata": {
    "collapsed": true
   },
   "outputs": [],
   "source": [
    "# Construct model\n",
    "model = build_net(training_data, width=args.width, height=args.height, verbose=args.verbose)"
   ]
  },
  {
   "cell_type": "code",
   "execution_count": 7,
   "metadata": {
    "scrolled": true
   },
   "outputs": [
    {
     "name": "stdout",
     "output_type": "stream",
     "text": [
      "Train on 697932 samples, validate on 116323 samples\n",
      "Epoch 1/9\n",
      "697932/697932 [==============================] - 2029s - loss: 0.6906 - acc: 0.7847 - val_loss: 0.4350 - val_acc: 0.8475\n",
      "Epoch 2/9\n",
      "697932/697932 [==============================] - 1987s - loss: 0.4724 - acc: 0.8381 - val_loss: 0.4075 - val_acc: 0.8534\n",
      "Epoch 3/9\n",
      "697932/697932 [==============================] - 2029s - loss: 0.4385 - acc: 0.8471 - val_loss: 0.3880 - val_acc: 0.8599\n",
      "Epoch 4/9\n",
      "697932/697932 [==============================] - 2066s - loss: 0.4215 - acc: 0.8515 - val_loss: 0.3780 - val_acc: 0.8624\n",
      "Epoch 5/9\n",
      "697932/697932 [==============================] - 2024s - loss: 0.4114 - acc: 0.8547 - val_loss: 0.3734 - val_acc: 0.8637\n",
      "Epoch 6/9\n",
      "697932/697932 [==============================] - 1967s - loss: 0.4035 - acc: 0.8565 - val_loss: 0.3687 - val_acc: 0.8658\n",
      "Epoch 7/9\n",
      "697932/697932 [==============================] - 2001s - loss: 0.3982 - acc: 0.8586 - val_loss: 0.3709 - val_acc: 0.8650\n",
      "Epoch 8/9\n",
      "697932/697932 [==============================] - 2008s - loss: 0.3945 - acc: 0.8593 - val_loss: 0.3647 - val_acc: 0.8670\n",
      "Epoch 9/9\n",
      "697932/697932 [==============================] - 2011s - loss: 0.3904 - acc: 0.8607 - val_loss: 0.3752 - val_acc: 0.8672\n",
      "Test loss: 0.375234908735\n",
      "Test accuracy: 0.867162985824\n"
     ]
    }
   ],
   "source": [
    "# Train\n",
    "train(model, training_data, epochs=args.epochs)"
   ]
  },
  {
   "cell_type": "code",
   "execution_count": 33,
   "metadata": {},
   "outputs": [
    {
     "ename": "NameError",
     "evalue": "name 'node_name_from_input' is not defined",
     "output_type": "error",
     "traceback": [
      "\u001b[0;31m---------------------------------------------------------------------------\u001b[0m",
      "\u001b[0;31mNameError\u001b[0m                                 Traceback (most recent call last)",
      "\u001b[0;32m<ipython-input-33-16c5b44a297c>\u001b[0m in \u001b[0;36m<module>\u001b[0;34m()\u001b[0m\n\u001b[1;32m     38\u001b[0m \u001b[0;32mfor\u001b[0m \u001b[0mnode\u001b[0m \u001b[0;32min\u001b[0m \u001b[0mgd\u001b[0m\u001b[0;34m.\u001b[0m\u001b[0mnode\u001b[0m\u001b[0;34m:\u001b[0m\u001b[0;34m\u001b[0m\u001b[0m\n\u001b[1;32m     39\u001b[0m     \u001b[0;32mfor\u001b[0m \u001b[0midx\u001b[0m\u001b[0;34m,\u001b[0m \u001b[0mi\u001b[0m \u001b[0;32min\u001b[0m \u001b[0menumerate\u001b[0m\u001b[0;34m(\u001b[0m\u001b[0mnode\u001b[0m\u001b[0;34m.\u001b[0m\u001b[0minput\u001b[0m\u001b[0;34m)\u001b[0m\u001b[0;34m:\u001b[0m\u001b[0;34m\u001b[0m\u001b[0m\n\u001b[0;32m---> 40\u001b[0;31m         \u001b[0minput_clean\u001b[0m \u001b[0;34m=\u001b[0m \u001b[0mnode_name_from_input\u001b[0m\u001b[0;34m(\u001b[0m\u001b[0mi\u001b[0m\u001b[0;34m)\u001b[0m\u001b[0;34m\u001b[0m\u001b[0m\n\u001b[0m\u001b[1;32m     41\u001b[0m         \u001b[0;32mif\u001b[0m \u001b[0minput_clean\u001b[0m\u001b[0;34m.\u001b[0m\u001b[0mendswith\u001b[0m\u001b[0;34m(\u001b[0m\u001b[0;34m'/cond/Merge'\u001b[0m\u001b[0;34m)\u001b[0m \u001b[0;32mand\u001b[0m \u001b[0minput_clean\u001b[0m\u001b[0;34m.\u001b[0m\u001b[0msplit\u001b[0m\u001b[0;34m(\u001b[0m\u001b[0;34m'/'\u001b[0m\u001b[0;34m)\u001b[0m\u001b[0;34m[\u001b[0m\u001b[0;34m-\u001b[0m\u001b[0;36m3\u001b[0m\u001b[0;34m]\u001b[0m\u001b[0;34m.\u001b[0m\u001b[0mstartswith\u001b[0m\u001b[0;34m(\u001b[0m\u001b[0;34m'dropout'\u001b[0m\u001b[0;34m)\u001b[0m\u001b[0;34m:\u001b[0m\u001b[0;34m\u001b[0m\u001b[0m\n\u001b[1;32m     42\u001b[0m             \u001b[0midentity\u001b[0m \u001b[0;34m=\u001b[0m \u001b[0mnode_from_map\u001b[0m\u001b[0;34m(\u001b[0m\u001b[0minput_node_map\u001b[0m\u001b[0;34m,\u001b[0m \u001b[0mi\u001b[0m\u001b[0;34m)\u001b[0m\u001b[0;34m.\u001b[0m\u001b[0minput\u001b[0m\u001b[0;34m[\u001b[0m\u001b[0;36m0\u001b[0m\u001b[0;34m]\u001b[0m\u001b[0;34m\u001b[0m\u001b[0m\n",
      "\u001b[0;31mNameError\u001b[0m: name 'node_name_from_input' is not defined"
     ]
    }
   ],
   "source": []
  },
  {
   "cell_type": "code",
   "execution_count": null,
   "metadata": {},
   "outputs": [],
   "source": [
    "(x_train, y_train), (x_test, y_test), mapping, nb_classes = training_data\n",
    "    \n",
    "y_test = np_utils.to_categorical(y_test, nb_classes)\n",
    "\n",
    "score = model.evaluate(x_test, y_test, verbose=0)\n",
    "\n",
    "print('Test loss:', score[0])\n",
    "print('Test accuracy:', score[1])"
   ]
  },
  {
   "cell_type": "code",
   "execution_count": null,
   "metadata": {
    "collapsed": true
   },
   "outputs": [],
   "source": [
    "# Generating labels file\n",
    "labels = ''\n",
    "for i in range(68):\n",
    "    labels += ((chr(i+55) if i > 9 else str(i)) + ('\\n' if i < 67 else '')) if i < 36 or i > 41 else ''\n",
    "    \n",
    "# print(labels)\n",
    "with open(\"labels.txt\", \"w\") as label_file:\n",
    "    label_file.write(labels)\n"
   ]
  },
  {
   "cell_type": "code",
   "execution_count": null,
   "metadata": {
    "collapsed": true
   },
   "outputs": [],
   "source": []
  }
 ],
 "metadata": {
  "kernelspec": {
   "display_name": "Python 3",
   "language": "python",
   "name": "python3"
  },
  "language_info": {
   "codemirror_mode": {
    "name": "ipython",
    "version": 3
   },
   "file_extension": ".py",
   "mimetype": "text/x-python",
   "name": "python",
   "nbconvert_exporter": "python",
   "pygments_lexer": "ipython3",
   "version": "3.5.2"
  }
 },
 "nbformat": 4,
 "nbformat_minor": 2
}
