{
 "cells": [
  {
   "cell_type": "code",
   "execution_count": 3,
   "metadata": {
    "collapsed": true
   },
   "outputs": [],
   "source": [
    "import sys\n",
    "import os\n",
    "import argparse\n",
    "\n",
    "os.environ['TF_CPP_MIN_LOG_LEVEL'] = '3'"
   ]
  },
  {
   "cell_type": "code",
   "execution_count": 4,
   "metadata": {},
   "outputs": [
    {
     "name": "stderr",
     "output_type": "stream",
     "text": [
      "Using TensorFlow backend.\n"
     ]
    }
   ],
   "source": [
    "%run dataset.ipynb \n",
    "%run neuralnet.ipynb\n",
    "%run training.ipynb\n",
    "%run getgraph.ipynb"
   ]
  },
  {
   "cell_type": "code",
   "execution_count": 35,
   "metadata": {},
   "outputs": [],
   "source": [
    "# Configuration parameters\n",
    "parser = argparse.ArgumentParser(usage='A training program for classifying the EMNIST dataset')\n",
    "parser.add_argument('-f', '--file', type=str, help='Path .mat file data', required=True)\n",
    "parser.add_argument('--width', type=int, default=28, help='Width of the images')\n",
    "parser.add_argument('--height', type=int, default=28, help='Height of the images')\n",
    "parser.add_argument('--max', type=int, default=None, help='Max amount of data to use')\n",
    "parser.add_argument('--epochs', type=int, default=18, help='Number of epochs to train on')\n",
    "parser.add_argument('--verbose', action='store_true', default=False, help='Enables verbose printing')\n",
    "\n",
    "#     args = parser.parse_args()\n",
    "\n",
    "# data_file = 'emnist-balanced.mat'\n",
    "data_file = 'emnist-letters.mat' # This data set has starting index at 1.... WTF\n",
    "\n",
    "data_path = os.path.dirname(os.path.realpath(sys.argv[1])) + '/data/' + data_file\n",
    "#     args = parser.parse_args(['-f', data_path, '--max', '500'])\n",
    "args = parser.parse_args(['-f', data_path])\n",
    "\n",
    "bin_dir = os.path.dirname(os.path.realpath(sys.argv[1])) + '/bin'\n",
    "if not os.path.exists(bin_dir):\n",
    "    os.makedirs(bin_dir)"
   ]
  },
  {
   "cell_type": "code",
   "execution_count": 36,
   "metadata": {
    "collapsed": true
   },
   "outputs": [],
   "source": [
    "# Construct training data\n",
    "training_data = load_data(args.file, width=args.width, height=args.height, max_data=args.max, verbose=args.verbose)"
   ]
  },
  {
   "cell_type": "code",
   "execution_count": 37,
   "metadata": {},
   "outputs": [],
   "source": [
    "# Construct model\n",
    "model = build_net(training_data, width=args.width, height=args.height, verbose=args.verbose)"
   ]
  },
  {
   "cell_type": "code",
   "execution_count": 40,
   "metadata": {},
   "outputs": [
    {
     "name": "stdout",
     "output_type": "stream",
     "text": [
      "Train on 124800 samples, validate on 20800 samples\n",
      "Epoch 1/18\n",
      "124800/124800 [==============================] - 351s - loss: 0.8879 - acc: 0.7338 - val_loss: 0.3743 - val_acc: 0.8820\n",
      "Epoch 2/18\n",
      "124800/124800 [==============================] - 355s - loss: 0.3974 - acc: 0.8754 - val_loss: 0.2759 - val_acc: 0.9128\n",
      "Epoch 3/18\n",
      "124800/124800 [==============================] - 357s - loss: 0.3197 - acc: 0.8974 - val_loss: 0.2441 - val_acc: 0.9224\n",
      "Epoch 4/18\n",
      "124800/124800 [==============================] - 351s - loss: 0.2794 - acc: 0.9101 - val_loss: 0.2287 - val_acc: 0.9258\n",
      "Epoch 5/18\n",
      "124800/124800 [==============================] - 351s - loss: 0.2519 - acc: 0.9169 - val_loss: 0.2200 - val_acc: 0.9283\n",
      "Epoch 6/18\n",
      "124800/124800 [==============================] - 354s - loss: 0.2362 - acc: 0.9220 - val_loss: 0.2139 - val_acc: 0.9292\n",
      "Epoch 7/18\n",
      "124800/124800 [==============================] - 354s - loss: 0.2215 - acc: 0.9259 - val_loss: 0.2040 - val_acc: 0.9335\n",
      "Epoch 8/18\n",
      "124800/124800 [==============================] - 355s - loss: 0.2093 - acc: 0.9298 - val_loss: 0.1986 - val_acc: 0.9348\n",
      "Epoch 9/18\n",
      "124800/124800 [==============================] - 359s - loss: 0.1976 - acc: 0.9332 - val_loss: 0.1944 - val_acc: 0.9364\n",
      "Epoch 10/18\n",
      "124800/124800 [==============================] - 360s - loss: 0.1886 - acc: 0.9357 - val_loss: 0.1920 - val_acc: 0.9368\n",
      "Epoch 11/18\n",
      "124800/124800 [==============================] - 356s - loss: 0.1834 - acc: 0.9380 - val_loss: 0.1886 - val_acc: 0.9379\n",
      "Epoch 12/18\n",
      "124800/124800 [==============================] - 356s - loss: 0.1774 - acc: 0.9395 - val_loss: 0.1897 - val_acc: 0.9370\n",
      "Epoch 13/18\n",
      "124800/124800 [==============================] - 358s - loss: 0.1701 - acc: 0.9410 - val_loss: 0.1929 - val_acc: 0.9375\n",
      "Epoch 14/18\n",
      "124800/124800 [==============================] - 357s - loss: 0.1656 - acc: 0.9419 - val_loss: 0.1903 - val_acc: 0.9387\n",
      "Epoch 15/18\n",
      "124800/124800 [==============================] - 360s - loss: 0.1611 - acc: 0.9445 - val_loss: 0.1899 - val_acc: 0.9383\n",
      "Epoch 16/18\n",
      "124800/124800 [==============================] - 357s - loss: 0.1567 - acc: 0.9450 - val_loss: 0.1904 - val_acc: 0.9378\n",
      "Epoch 17/18\n",
      "124800/124800 [==============================] - 356s - loss: 0.1529 - acc: 0.9466 - val_loss: 0.1908 - val_acc: 0.9385\n",
      "Epoch 18/18\n",
      "124800/124800 [==============================] - 377s - loss: 0.1501 - acc: 0.9476 - val_loss: 0.1913 - val_acc: 0.9397\n",
      "Test loss: 0.191287913798\n",
      "Test accuracy: 0.939711538462\n"
     ]
    }
   ],
   "source": [
    "# Train\n",
    "train(model, training_data, epochs=args.epochs)"
   ]
  },
  {
   "cell_type": "code",
   "execution_count": 41,
   "metadata": {},
   "outputs": [],
   "source": [
    "(x_train, y_train), (x_test, y_test), mapping, nb_classes = training_data"
   ]
  },
  {
   "cell_type": "code",
   "execution_count": 42,
   "metadata": {},
   "outputs": [
    {
     "name": "stdout",
     "output_type": "stream",
     "text": [
      "Test loss: 0.191287913798\n",
      "Test accuracy: 0.939711538462\n"
     ]
    }
   ],
   "source": [
    "\n",
    "y_test = np_utils.to_categorical(y_test, nb_classes)\n",
    "\n",
    "score = model.evaluate(x_test, y_test, verbose=0)\n",
    "\n",
    "print('Test loss:', score[0])\n",
    "print('Test accuracy:', score[1])"
   ]
  },
  {
   "cell_type": "code",
   "execution_count": 43,
   "metadata": {},
   "outputs": [],
   "source": [
    "# Generating labels file\n",
    "labels = '\\n'.join([chr(v) for v in mapping.values()])\n",
    "with open(\"labels.txt\", \"w\") as label_file:\n",
    "    label_file.write(labels)\n"
   ]
  },
  {
   "cell_type": "code",
   "execution_count": null,
   "metadata": {
    "collapsed": true
   },
   "outputs": [],
   "source": []
  }
 ],
 "metadata": {
  "kernelspec": {
   "display_name": "Python 3",
   "language": "python",
   "name": "python3"
  },
  "language_info": {
   "codemirror_mode": {
    "name": "ipython",
    "version": 3
   },
   "file_extension": ".py",
   "mimetype": "text/x-python",
   "name": "python",
   "nbconvert_exporter": "python",
   "pygments_lexer": "ipython3",
   "version": "3.5.2"
  }
 },
 "nbformat": 4,
 "nbformat_minor": 2
}
