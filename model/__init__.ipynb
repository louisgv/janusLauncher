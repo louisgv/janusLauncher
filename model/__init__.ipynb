{
 "cells": [
  {
   "cell_type": "code",
   "execution_count": 2,
   "metadata": {
    "collapsed": true
   },
   "outputs": [],
   "source": [
    "import sys\n",
    "import os\n",
    "import argparse\n",
    "\n",
    "os.environ['TF_CPP_MIN_LOG_LEVEL'] = '3'"
   ]
  },
  {
   "cell_type": "code",
   "execution_count": 7,
   "metadata": {},
   "outputs": [],
   "source": [
    "%run dataset.ipynb \n",
    "%run neuralnet.ipynb\n",
    "%run training.ipynb\n",
    "%run getgraph.ipynb"
   ]
  },
  {
   "cell_type": "code",
   "execution_count": 3,
   "metadata": {
    "collapsed": true
   },
   "outputs": [],
   "source": [
    "if __name__ == '__main__':    \n",
    "    parser = argparse.ArgumentParser(usage='A training program for classifying the EMNIST dataset')\n",
    "    parser.add_argument('-f', '--file', type=str, help='Path .mat file data', required=True)\n",
    "    parser.add_argument('--width', type=int, default=28, help='Width of the images')\n",
    "    parser.add_argument('--height', type=int, default=28, help='Height of the images')\n",
    "    parser.add_argument('--max', type=int, default=None, help='Max amount of data to use')\n",
    "    parser.add_argument('--epochs', type=int, default=10, help='Number of epochs to train on')\n",
    "    parser.add_argument('--verbose', action='store_true', default=False, help='Enables verbose printing')\n",
    "\n",
    "    #     args = parser.parse_args()\n",
    "\n",
    "    data_file = 'emnist-byclass.mat'\n",
    "    data_path = os.path.dirname(os.path.realpath(sys.argv[1])) + '/data/' + data_file\n",
    "#     args = parser.parse_args(['-f', data_path, '--max', '500'])\n",
    "    args = parser.parse_args(['-f', data_path])\n",
    "\n",
    "    bin_dir = os.path.dirname(os.path.realpath(sys.argv[1])) + '/bin'\n",
    "    if not os.path.exists(bin_dir):\n",
    "        os.makedirs(bin_dir)"
   ]
  },
  {
   "cell_type": "code",
   "execution_count": 4,
   "metadata": {
    "collapsed": true
   },
   "outputs": [],
   "source": [
    "    training_data = load_data(args.file, width=args.width, height=args.height, max_data=args.max, verbose=args.verbose)"
   ]
  },
  {
   "cell_type": "code",
   "execution_count": 25,
   "metadata": {
    "collapsed": true
   },
   "outputs": [],
   "source": [
    "    model = build_net(training_data, width=args.width, height=args.height, verbose=args.verbose)"
   ]
  },
  {
   "cell_type": "code",
   "execution_count": 26,
   "metadata": {},
   "outputs": [
    {
     "name": "stdout",
     "output_type": "stream",
     "text": [
      "Train on 500 samples, validate on 83 samples\n",
      "Epoch 1/10\n",
      "500/500 [==============================] - 2s - loss: 4.1018 - acc: 0.0400 - val_loss: 4.0074 - val_acc: 0.1446\n",
      "Epoch 2/10\n",
      "500/500 [==============================] - 1s - loss: 3.9644 - acc: 0.1060 - val_loss: 3.8258 - val_acc: 0.1566\n",
      "Epoch 3/10\n",
      "500/500 [==============================] - 1s - loss: 3.7328 - acc: 0.1640 - val_loss: 3.6112 - val_acc: 0.1325\n",
      "Epoch 4/10\n",
      "500/500 [==============================] - 1s - loss: 3.5315 - acc: 0.1840 - val_loss: 3.4043 - val_acc: 0.2048\n",
      "Epoch 5/10\n",
      "500/500 [==============================] - 1s - loss: 3.3136 - acc: 0.2240 - val_loss: 3.1878 - val_acc: 0.2651\n",
      "Epoch 6/10\n",
      "500/500 [==============================] - 2s - loss: 3.0080 - acc: 0.3120 - val_loss: 2.9853 - val_acc: 0.2651\n",
      "Epoch 7/10\n",
      "500/500 [==============================] - 1s - loss: 2.9339 - acc: 0.3080 - val_loss: 2.9074 - val_acc: 0.3012\n",
      "Epoch 8/10\n",
      "500/500 [==============================] - 1s - loss: 2.7503 - acc: 0.3520 - val_loss: 2.9401 - val_acc: 0.2892\n",
      "Epoch 9/10\n",
      "500/500 [==============================] - 1s - loss: 2.6000 - acc: 0.3840 - val_loss: 2.8174 - val_acc: 0.2410\n",
      "Epoch 10/10\n",
      "500/500 [==============================] - 1s - loss: 2.4736 - acc: 0.3920 - val_loss: 2.5340 - val_acc: 0.3373\n",
      "Test score: 2.53399969296\n",
      "Test accuracy: 0.337349394718\n"
     ]
    }
   ],
   "source": [
    "    train(model, training_data, epochs=args.epochs)"
   ]
  },
  {
   "cell_type": "code",
   "execution_count": 8,
   "metadata": {},
   "outputs": [
    {
     "name": "stdout",
     "output_type": "stream",
     "text": [
      "Test loss: 0.356566239601\n",
      "Test accuracy: 0.869819382238\n"
     ]
    }
   ],
   "source": [
    "version = 0\n",
    "model_path = os.path.dirname(os.path.realpath(sys.argv[1])) + '/bin/v' + str(version) + '/model.h5'\n",
    "\n",
    "(model) = extractgraph(model_path)\n",
    "(x_train, y_train), (x_test, y_test), mapping, nb_classes = training_data\n",
    "    \n",
    "y_test = np_utils.to_categorical(y_test, nb_classes)\n",
    "\n",
    "score = model.evaluate(x_test, y_test, verbose=0)\n",
    "\n",
    "print('Test loss:', score[0])\n",
    "print('Test accuracy:', score[1])\n"
   ]
  },
  {
   "cell_type": "code",
   "execution_count": null,
   "metadata": {
    "collapsed": true
   },
   "outputs": [],
   "source": []
  }
 ],
 "metadata": {
  "kernelspec": {
   "display_name": "Python 3",
   "language": "python",
   "name": "python3"
  },
  "language_info": {
   "codemirror_mode": {
    "name": "ipython",
    "version": 3
   },
   "file_extension": ".py",
   "mimetype": "text/x-python",
   "name": "python",
   "nbconvert_exporter": "python",
   "pygments_lexer": "ipython3",
   "version": "3.5.2"
  }
 },
 "nbformat": 4,
 "nbformat_minor": 2
}
