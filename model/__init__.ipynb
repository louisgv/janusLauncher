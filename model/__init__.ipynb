{
 "cells": [
  {
   "cell_type": "code",
   "execution_count": 3,
   "metadata": {
    "collapsed": true
   },
   "outputs": [],
   "source": [
    "import sys\n",
    "import os\n",
    "import argparse\n",
    "\n",
    "os.environ['TF_CPP_MIN_LOG_LEVEL'] = '3'"
   ]
  },
  {
   "cell_type": "code",
   "execution_count": 4,
   "metadata": {},
   "outputs": [
    {
     "name": "stderr",
     "output_type": "stream",
     "text": [
      "Using TensorFlow backend.\n"
     ]
    }
   ],
   "source": [
    "%run dataset.ipynb \n",
    "%run neuralnet.ipynb\n",
    "%run training.ipynb\n",
    "%run getgraph.ipynb"
   ]
  },
  {
   "cell_type": "code",
   "execution_count": 17,
   "metadata": {},
   "outputs": [],
   "source": [
    "# Configuration parameters\n",
    "parser = argparse.ArgumentParser(usage='A training program for classifying the EMNIST dataset')\n",
    "parser.add_argument('-f', '--file', type=str, help='Path .mat file data', required=True)\n",
    "parser.add_argument('--width', type=int, default=28, help='Width of the images')\n",
    "parser.add_argument('--height', type=int, default=28, help='Height of the images')\n",
    "parser.add_argument('--max', type=int, default=None, help='Max amount of data to use')\n",
    "parser.add_argument('--epochs', type=int, default=18, help='Number of epochs to train on')\n",
    "parser.add_argument('--verbose', action='store_true', default=False, help='Enables verbose printing')\n",
    "\n",
    "#     args = parser.parse_args()\n",
    "\n",
    "data_file = 'emnist-balanced.mat'\n",
    "# data_file = 'emnist-letters.mat' # This data set has starting index at 1.... WTF\n",
    "\n",
    "data_path = os.path.dirname(os.path.realpath(sys.argv[1])) + '/data/' + data_file\n",
    "#     args = parser.parse_args(['-f', data_path, '--max', '500'])\n",
    "args = parser.parse_args(['-f', data_path])\n",
    "\n",
    "bin_dir = os.path.dirname(os.path.realpath(sys.argv[1])) + '/bin'\n",
    "if not os.path.exists(bin_dir):\n",
    "    os.makedirs(bin_dir)"
   ]
  },
  {
   "cell_type": "code",
   "execution_count": 18,
   "metadata": {
    "collapsed": true
   },
   "outputs": [],
   "source": [
    "# Construct training data\n",
    "training_data = load_data(args.file, width=args.width, height=args.height, max_data=args.max, verbose=args.verbose)"
   ]
  },
  {
   "cell_type": "code",
   "execution_count": null,
   "metadata": {},
   "outputs": [],
   "source": [
    "# Construct model\n",
    "model = build_net(training_data, width=args.width, height=args.height, verbose=args.verbose)"
   ]
  },
  {
   "cell_type": "code",
   "execution_count": null,
   "metadata": {},
   "outputs": [],
   "source": [
    "# Train\n",
    "train(model, training_data, epochs=args.epochs)"
   ]
  },
  {
   "cell_type": "code",
   "execution_count": 19,
   "metadata": {},
   "outputs": [],
   "source": [
    "(x_train, y_train), (x_test, y_test), mapping, nb_classes = training_data"
   ]
  },
  {
   "cell_type": "code",
   "execution_count": null,
   "metadata": {
    "collapsed": true
   },
   "outputs": [],
   "source": [
    "\n",
    "y_test = np_utils.to_categorical(y_test, nb_classes)\n",
    "\n",
    "score = model.evaluate(x_test, y_test, verbose=0)\n",
    "\n",
    "print('Test loss:', score[0])\n",
    "print('Test accuracy:', score[1])"
   ]
  },
  {
   "cell_type": "code",
   "execution_count": 33,
   "metadata": {},
   "outputs": [],
   "source": [
    "# Generating labels file\n",
    "labels = '\\n'.join([chr(v) for v in mapping.values()])\n",
    "with open(\"labels.txt\", \"w\") as label_file:\n",
    "    label_file.write(labels)\n"
   ]
  },
  {
   "cell_type": "code",
   "execution_count": 14,
   "metadata": {},
   "outputs": [
    {
     "name": "stdout",
     "output_type": "stream",
     "text": [
      "[[ (array([[ (array([[0, 0, 0, ..., 0, 0, 0],\n",
      "       [0, 0, 0, ..., 0, 0, 0],\n",
      "       [0, 0, 0, ..., 0, 0, 0],\n",
      "       ..., \n",
      "       [0, 0, 0, ..., 0, 0, 0],\n",
      "       [0, 0, 0, ..., 0, 0, 0],\n",
      "       [0, 0, 0, ..., 0, 0, 0]], dtype=uint8), array([[23],\n",
      "       [ 7],\n",
      "       [16],\n",
      "       ..., \n",
      "       [13],\n",
      "       [15],\n",
      "       [19]], dtype=uint8), array([[1234],\n",
      "       [ 799],\n",
      "       [3444],\n",
      "       ..., \n",
      "       [ 785],\n",
      "       [ 208],\n",
      "       [ 875]], dtype=uint16))]],\n",
      "      dtype=[('images', 'O'), ('labels', 'O'), ('writers', 'O')]), array([[ (array([[0, 0, 0, ..., 0, 0, 0],\n",
      "       [0, 0, 0, ..., 0, 0, 0],\n",
      "       [0, 0, 0, ..., 0, 0, 0],\n",
      "       ..., \n",
      "       [0, 0, 0, ..., 0, 0, 0],\n",
      "       [0, 0, 0, ..., 0, 0, 0],\n",
      "       [0, 0, 0, ..., 0, 0, 0]], dtype=uint8), array([[ 1],\n",
      "       [ 1],\n",
      "       [ 1],\n",
      "       ..., \n",
      "       [26],\n",
      "       [26],\n",
      "       [26]], dtype=uint8), array([[3259],\n",
      "       [3984],\n",
      "       [2060],\n",
      "       ..., \n",
      "       [1888],\n",
      "       [3407],\n",
      "       [1301]], dtype=uint16))]],\n",
      "      dtype=[('images', 'O'), ('labels', 'O'), ('writers', 'O')]), array([[  1,  65,  97],\n",
      "       [  2,  66,  98],\n",
      "       [  3,  67,  99],\n",
      "       [  4,  68, 100],\n",
      "       [  5,  69, 101],\n",
      "       [  6,  70, 102],\n",
      "       [  7,  71, 103],\n",
      "       [  8,  72, 104],\n",
      "       [  9,  73, 105],\n",
      "       [ 10,  74, 106],\n",
      "       [ 11,  75, 107],\n",
      "       [ 12,  76, 108],\n",
      "       [ 13,  77, 109],\n",
      "       [ 14,  78, 110],\n",
      "       [ 15,  79, 111],\n",
      "       [ 16,  80, 112],\n",
      "       [ 17,  81, 113],\n",
      "       [ 18,  82, 114],\n",
      "       [ 19,  83, 115],\n",
      "       [ 20,  84, 116],\n",
      "       [ 21,  85, 117],\n",
      "       [ 22,  86, 118],\n",
      "       [ 23,  87, 119],\n",
      "       [ 24,  88, 120],\n",
      "       [ 25,  89, 121],\n",
      "       [ 26,  90, 122]], dtype=uint8))]]\n",
      "{1: 'A', 2: 'B', 3: 'C', 4: 'D', 5: 'E', 6: 'F', 7: 'G', 8: 'H', 9: 'I', 10: 'J', 11: 'K', 12: 'L', 13: 'M', 14: 'N', 15: 'O', 16: 'P', 17: 'Q', 18: 'R', 19: 'S', 20: 'T', 21: 'U', 22: 'V', 23: 'W', 24: 'X', 25: 'Y', 26: 'Z'}\n"
     ]
    }
   ],
   "source": []
  },
  {
   "cell_type": "code",
   "execution_count": null,
   "metadata": {
    "collapsed": true
   },
   "outputs": [],
   "source": []
  }
 ],
 "metadata": {
  "kernelspec": {
   "display_name": "Python 3",
   "language": "python",
   "name": "python3"
  },
  "language_info": {
   "codemirror_mode": {
    "name": "ipython",
    "version": 3
   },
   "file_extension": ".py",
   "mimetype": "text/x-python",
   "name": "python",
   "nbconvert_exporter": "python",
   "pygments_lexer": "ipython3",
   "version": "3.5.2"
  }
 },
 "nbformat": 4,
 "nbformat_minor": 2
}
